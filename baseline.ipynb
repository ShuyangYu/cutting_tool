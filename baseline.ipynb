{
 "cells": [
  {
   "cell_type": "code",
   "execution_count": 1,
   "metadata": {},
   "outputs": [
    {
     "data": {
      "text/plain": [
       "<contextlib._GeneratorContextManager at 0x7f95bc093f98>"
      ]
     },
     "execution_count": 1,
     "metadata": {},
     "output_type": "execute_result"
    }
   ],
   "source": [
    "import gc\n",
    "import glob\n",
    "import itertools\n",
    "import os\n",
    "\n",
    "import lightgbm as lgb\n",
    "import matplotlib\n",
    "import matplotlib.pyplot as plt\n",
    "import numpy as np  \n",
    "import pandas as pd  \n",
    "import seaborn as sns\n",
    "from sklearn.ensemble import RandomForestClassifier\n",
    "from sklearn.metrics import make_scorer, mean_squared_error\n",
    "from sklearn.model_selection import StratifiedKFold, cross_val_score, train_test_split\n",
    "\n",
    "from hyperopt import hp, tpe\n",
    "from hyperopt.fmin import fmin\n",
    "\n",
    "%matplotlib inline \n",
    "plt.xkcd()"
   ]
  },
  {
   "cell_type": "markdown",
   "metadata": {},
   "source": [
    "## 读取数据"
   ]
  },
  {
   "cell_type": "code",
   "execution_count": 2,
   "metadata": {},
   "outputs": [],
   "source": [
    "# 辅助 list sort 进行排序\n",
    "def takeNumber(str):\n",
    "    return int(str.split('.')[-0][-2:])"
   ]
  },
  {
   "cell_type": "code",
   "execution_count": 3,
   "metadata": {},
   "outputs": [],
   "source": [
    "def load_data(path, name, columns_name=None):\n",
    "    all_file_path = glob.glob(os.path.join(path, name))\n",
    "    all_file_path.sort(key=takeNumber)\n",
    "    print('file read list : ', all_file_path)\n",
    "    data = pd.concat((pd.read_csv(f, names=columns_name)\n",
    "                          for f in all_file_path))\n",
    "    return data"
   ]
  },
  {
   "cell_type": "code",
   "execution_count": 4,
   "metadata": {},
   "outputs": [],
   "source": [
    "sensor_feature_train_path = '/home/dell/cutting_tool/train_feature'\n",
    "plc_feature_train_path = '/usr/yushuyang/cutting_tool/feature/train/plc'\n",
    "sensor_feature_test_path = '/home/dell/cutting_tool/test_feature'\n",
    "# plc_feature_test_path = 'feature/train/plc'"
   ]
  },
  {
   "cell_type": "code",
   "execution_count": 5,
   "metadata": {},
   "outputs": [],
   "source": [
    "time_feature_columns_name = ['ave_spindle', 'std_spindle', 'max_spindle', 'min_spindle', 'median_spindle', 'rmse_spindle',\n",
    "                             'pp_spindle', 'hdiff_spindle', 'fdiff_spindle', 'ave_x', 'std_x', 'max_x', 'min_x', 'median_x', 'rmse_x',\n",
    "                             'pp_x', 'hdiff_x', 'fdiff_x', 'ave_y', 'std_y', 'max_y', 'min_y', 'median_y', 'rmse_y', 'pp_y',\n",
    "                             'hdiff_y', 'fdiff_y', 'ave_z', 'std_z', 'max_z', 'min_z', 'median_z', 'rmse_z', 'pp_z', 'hdiff_z', 'fdiff_z']"
   ]
  },
  {
   "cell_type": "code",
   "execution_count": 6,
   "metadata": {},
   "outputs": [
    {
     "name": "stdout",
     "output_type": "stream",
     "text": [
      "file read list :  ['/home/dell/cutting_tool/train_feature/time_train01.csv', '/home/dell/cutting_tool/train_feature/time_train02.csv', '/home/dell/cutting_tool/train_feature/time_train03.csv']\n",
      "file read list :  ['/usr/yushuyang/cutting_tool/feature/train/plc/time_01.csv', '/usr/yushuyang/cutting_tool/feature/train/plc/time_02.csv', '/usr/yushuyang/cutting_tool/feature/train/plc/time_03.csv']\n"
     ]
    }
   ],
   "source": [
    "sensor_time_train_feature = load_data(sensor_feature_train_path, 'time_*.csv', time_feature_columns_name)\n",
    "plc_time_train_feature = load_data(plc_feature_train_path, 'time_*.csv')"
   ]
  },
  {
   "cell_type": "code",
   "execution_count": 7,
   "metadata": {},
   "outputs": [
    {
     "name": "stdout",
     "output_type": "stream",
     "text": [
      "file read list :  ['/home/dell/cutting_tool/test_feature/time_test01.csv', '/home/dell/cutting_tool/test_feature/time_test02.csv', '/home/dell/cutting_tool/test_feature/time_test03.csv', '/home/dell/cutting_tool/test_feature/time_test04.csv', '/home/dell/cutting_tool/test_feature/time_test05.csv']\n"
     ]
    }
   ],
   "source": [
    "sensor_time_test_feature = load_data(sensor_feature_test_path, 'time_*.csv', time_feature_columns_name)"
   ]
  },
  {
   "cell_type": "code",
   "execution_count": 8,
   "metadata": {},
   "outputs": [
    {
     "name": "stdout",
     "output_type": "stream",
     "text": [
      "shape of train sensor time feature :  (133, 36)\n",
      "shape of train plc time feature :  (133, 36)\n",
      "shape of test sensor time feature :  (50, 36)\n"
     ]
    }
   ],
   "source": [
    "print('shape of train sensor time feature : ', sensor_time_train_feature.shape)\n",
    "print('shape of train plc time feature : ',plc_time_train_feature.shape)\n",
    "\n",
    "print('shape of test sensor time feature : ', sensor_time_test_feature.shape)"
   ]
  },
  {
   "cell_type": "code",
   "execution_count": 9,
   "metadata": {},
   "outputs": [],
   "source": [
    "train_feature = pd.concat((sensor_time_train_feature, plc_time_train_feature), axis=1)"
   ]
  },
  {
   "cell_type": "code",
   "execution_count": 10,
   "metadata": {},
   "outputs": [
    {
     "data": {
      "text/plain": [
       "67"
      ]
     },
     "execution_count": 10,
     "metadata": {},
     "output_type": "execute_result"
    }
   ],
   "source": [
    "del sensor_time_train_feature, plc_time_train_feature\n",
    "gc.collect()"
   ]
  },
  {
   "cell_type": "markdown",
   "metadata": {},
   "source": [
    "## 添加特征"
   ]
  },
  {
   "cell_type": "markdown",
   "metadata": {},
   "source": [
    "### 频域"
   ]
  },
  {
   "cell_type": "code",
   "execution_count": 11,
   "metadata": {},
   "outputs": [],
   "source": [
    "freq_feature_columns_name = ['freq_' + name for name in time_feature_columns_name]"
   ]
  },
  {
   "cell_type": "code",
   "execution_count": 12,
   "metadata": {},
   "outputs": [
    {
     "name": "stdout",
     "output_type": "stream",
     "text": [
      "file read list :  ['/home/dell/cutting_tool/train_feature/freq_train01.csv', '/home/dell/cutting_tool/train_feature/freq_train02.csv', '/home/dell/cutting_tool/train_feature/freq_train03.csv']\n"
     ]
    }
   ],
   "source": [
    "sensor_freq_train_feature = load_data(sensor_feature_train_path, 'freq_train*.csv', freq_feature_columns_name)"
   ]
  },
  {
   "cell_type": "code",
   "execution_count": 13,
   "metadata": {},
   "outputs": [
    {
     "name": "stdout",
     "output_type": "stream",
     "text": [
      "shape of sensor freq feature :  (133, 36)\n"
     ]
    }
   ],
   "source": [
    "print('shape of sensor freq feature : ', sensor_freq_train_feature.shape)"
   ]
  },
  {
   "cell_type": "code",
   "execution_count": 14,
   "metadata": {},
   "outputs": [],
   "source": [
    "train_feature = pd.concat((train_feature, sensor_freq_train_feature), axis=1)"
   ]
  },
  {
   "cell_type": "code",
   "execution_count": 15,
   "metadata": {},
   "outputs": [
    {
     "data": {
      "text/plain": [
       "21"
      ]
     },
     "execution_count": 15,
     "metadata": {},
     "output_type": "execute_result"
    }
   ],
   "source": [
    "del sensor_freq_train_feature\n",
    "gc.collect()"
   ]
  },
  {
   "cell_type": "markdown",
   "metadata": {},
   "source": [
    "### 小波"
   ]
  },
  {
   "cell_type": "code",
   "execution_count": 16,
   "metadata": {},
   "outputs": [],
   "source": [
    "wavelet_feature_columns_name = ['wavelet_vibration_1_cA3', 'wavelet_vibration_1_cD3', 'wavelet_vibration_1_cD2', 'wavelet_vibration_1_cD1',\n",
    "                                'wavelet_vibration_1_cA3_enengy', 'wavelet_vibration_1_cD3_enengy', 'wavelet_vibration_1_cD2_enengy', 'wavelet_vibration_1_cD1_enengy',\n",
    "                                'wavelet_vibration_1_total_energy', 'wavelet_vibration_2_cA3', 'wavelet_vibration_2_cD3', 'wavelet_vibration_2_cD2', 'wavelet_vibration_2_cD1',\n",
    "                                'wavelet_vibration_2_cA3_enengy', 'wavelet_vibration_2_cD3_enengy', 'wavelet_vibration_2_cD2_enengy', 'wavelet_vibration_2_cD1_enengy',\n",
    "                                'wavelet_vibration_2_total_energy', 'wavelet_vibration_3_cA3', 'wavelet_vibration_3_cD3', 'wavelet_vibration_3_cD2', 'wavelet_vibration_3_cD1',\n",
    "                                'wavelet_vibration_3_cA3_enengy', 'wavelet_vibration_3_cD3_enengy', 'wavelet_vibration_3_cD2_enengy', 'wavelet_vibration_3_cD1_enengy',\n",
    "                                'wavelet_vibration_3_total_energy', 'wavelet_cA3', 'wavelet_cD3', 'wavelet_cD2', 'wavelet_cD1',\n",
    "                                'wavelet_cA3_enengy', 'wavelet_current_cD3_enengy', 'wavelet_current_cD2_enengy', 'wavelet_current_cD1_enengy',\n",
    "                                'wavelet_current_total_energy']"
   ]
  },
  {
   "cell_type": "code",
   "execution_count": 17,
   "metadata": {},
   "outputs": [
    {
     "name": "stdout",
     "output_type": "stream",
     "text": [
      "file read list :  ['/home/dell/cutting_tool/train_feature/wavelet_train01.csv', '/home/dell/cutting_tool/train_feature/wavelet_train02.csv', '/home/dell/cutting_tool/train_feature/wavelet_train03.csv']\n"
     ]
    }
   ],
   "source": [
    "wavelet_train_feature = load_data(sensor_feature_train_path, 'wavelet_train*.csv', wavelet_feature_columns_name)"
   ]
  },
  {
   "cell_type": "code",
   "execution_count": 18,
   "metadata": {},
   "outputs": [
    {
     "name": "stdout",
     "output_type": "stream",
     "text": [
      "shape of sensor wavelet feature :  (133, 36)\n"
     ]
    }
   ],
   "source": [
    "print('shape of sensor wavelet feature : ', wavelet_train_feature.shape)"
   ]
  },
  {
   "cell_type": "code",
   "execution_count": 19,
   "metadata": {},
   "outputs": [],
   "source": [
    "train_feature = pd.concat((train_feature, wavelet_train_feature), axis=1)"
   ]
  },
  {
   "cell_type": "code",
   "execution_count": 20,
   "metadata": {},
   "outputs": [
    {
     "data": {
      "text/plain": [
       "21"
      ]
     },
     "execution_count": 20,
     "metadata": {},
     "output_type": "execute_result"
    }
   ],
   "source": [
    "del wavelet_train_feature\n",
    "gc.collect()"
   ]
  },
  {
   "cell_type": "markdown",
   "metadata": {},
   "source": [
    "## 添加标签"
   ]
  },
  {
   "cell_type": "code",
   "execution_count": 21,
   "metadata": {},
   "outputs": [],
   "source": [
    "train_run_cycle = [48, 48, 37]\n",
    "test_run_cycle = [10, 10, 10, 10, 10]"
   ]
  },
  {
   "cell_type": "code",
   "execution_count": 22,
   "metadata": {},
   "outputs": [],
   "source": [
    "train_label = list(itertools.chain.from_iterable(list(range(0, train_run_cycle[i] * 5, 5)[::-1]) for i in range(len(train_run_cycle))))\n",
    "test_label = list(itertools.chain.from_iterable(list(range(0, test_run_cycle[i] * 5, 5)[::-1]) for i in range(len(test_run_cycle))))"
   ]
  },
  {
   "cell_type": "code",
   "execution_count": 23,
   "metadata": {},
   "outputs": [],
   "source": [
    "train_data = train_feature.assign(label=train_label)"
   ]
  },
  {
   "cell_type": "markdown",
   "metadata": {},
   "source": [
    "## 验证集划分"
   ]
  },
  {
   "cell_type": "code",
   "execution_count": 24,
   "metadata": {},
   "outputs": [],
   "source": [
    "# 随机划分，0.2\n",
    "train, validation = train_test_split(train_data, test_size=0.20, random_state=0)"
   ]
  },
  {
   "cell_type": "code",
   "execution_count": 25,
   "metadata": {},
   "outputs": [
    {
     "data": {
      "text/plain": [
       "((106, 145), (27, 145))"
      ]
     },
     "execution_count": 25,
     "metadata": {},
     "output_type": "execute_result"
    }
   ],
   "source": [
    "train.shape, validation.shape"
   ]
  },
  {
   "cell_type": "markdown",
   "metadata": {},
   "source": [
    "# model"
   ]
  },
  {
   "cell_type": "code",
   "execution_count": 26,
   "metadata": {},
   "outputs": [],
   "source": [
    "# 学习率\n",
    "def learning_rate_010_decay_power_099(current_iter):\n",
    "    base_learning_rate = 0.1\n",
    "    lr = base_learning_rate  * np.power(.99, current_iter)\n",
    "    return lr if lr > 1e-3 else 1e-3"
   ]
  },
  {
   "cell_type": "code",
   "execution_count": 230,
   "metadata": {},
   "outputs": [],
   "source": [
    "def base_model():\n",
    "    params = {\n",
    "        'num_leaves': 31,\n",
    "        'n_estimators' : 100\n",
    "    }\n",
    "    clf = lgb.LGBMRegressor(\n",
    "        learning_rate=0.05, \n",
    "        n_jobs=-1, \n",
    "        silent=False,\n",
    "        **params\n",
    "        )\n",
    "    clf.fit(\n",
    "        train.iloc[:, :-1],\n",
    "        train['label'],\n",
    "        eval_set=[(train.iloc[:, :-1], train['label']),\n",
    "                  (validation.iloc[:, :-1], validation['label'])])"
   ]
  },
  {
   "cell_type": "code",
   "execution_count": 231,
   "metadata": {
    "scrolled": true
   },
   "outputs": [
    {
     "name": "stdout",
     "output_type": "stream",
     "text": [
      "[1]\tvalid_0's l2: 4047.61\tvalid_1's l2: 4409.12\n",
      "[2]\tvalid_0's l2: 3776.6\tvalid_1's l2: 4209.64\n",
      "[3]\tvalid_0's l2: 3531.89\tvalid_1's l2: 4014.58\n",
      "[4]\tvalid_0's l2: 3310.01\tvalid_1's l2: 3858.31\n",
      "[5]\tvalid_0's l2: 3109.69\tvalid_1's l2: 3705.31\n",
      "[6]\tvalid_0's l2: 2896.02\tvalid_1's l2: 3538.97\n",
      "[7]\tvalid_0's l2: 2702.1\tvalid_1's l2: 3389.43\n",
      "[8]\tvalid_0's l2: 2547.12\tvalid_1's l2: 3240.53\n",
      "[9]\tvalid_0's l2: 2382.67\tvalid_1's l2: 3115.01\n",
      "[10]\tvalid_0's l2: 2208.67\tvalid_1's l2: 2973.1\n",
      "[11]\tvalid_0's l2: 2059.25\tvalid_1's l2: 2832.4\n",
      "[12]\tvalid_0's l2: 1934.42\tvalid_1's l2: 2738.9\n",
      "[13]\tvalid_0's l2: 1808.94\tvalid_1's l2: 2620.53\n",
      "[14]\tvalid_0's l2: 1706.34\tvalid_1's l2: 2503.72\n",
      "[15]\tvalid_0's l2: 1601.76\tvalid_1's l2: 2406.63\n",
      "[16]\tvalid_0's l2: 1503.37\tvalid_1's l2: 2318.18\n",
      "[17]\tvalid_0's l2: 1440.45\tvalid_1's l2: 2259.29\n",
      "[18]\tvalid_0's l2: 1360.47\tvalid_1's l2: 2185.74\n",
      "[19]\tvalid_0's l2: 1292.85\tvalid_1's l2: 2120.98\n",
      "[20]\tvalid_0's l2: 1221.68\tvalid_1's l2: 2058.22\n",
      "[21]\tvalid_0's l2: 1143.6\tvalid_1's l2: 2002.22\n",
      "[22]\tvalid_0's l2: 1090.79\tvalid_1's l2: 1951.97\n",
      "[23]\tvalid_0's l2: 1024.44\tvalid_1's l2: 1905.89\n",
      "[24]\tvalid_0's l2: 964.562\tvalid_1's l2: 1865.01\n",
      "[25]\tvalid_0's l2: 923.948\tvalid_1's l2: 1821.15\n",
      "[26]\tvalid_0's l2: 873.829\tvalid_1's l2: 1782.61\n",
      "[27]\tvalid_0's l2: 822.846\tvalid_1's l2: 1746.49\n",
      "[28]\tvalid_0's l2: 776.834\tvalid_1's l2: 1714.21\n",
      "[29]\tvalid_0's l2: 738.528\tvalid_1's l2: 1686.14\n",
      "[30]\tvalid_0's l2: 709.801\tvalid_1's l2: 1666.64\n",
      "[31]\tvalid_0's l2: 672.895\tvalid_1's l2: 1635.89\n",
      "[32]\tvalid_0's l2: 642.201\tvalid_1's l2: 1607.67\n",
      "[33]\tvalid_0's l2: 610.857\tvalid_1's l2: 1586.38\n",
      "[34]\tvalid_0's l2: 589.122\tvalid_1's l2: 1572.43\n",
      "[35]\tvalid_0's l2: 561.846\tvalid_1's l2: 1549.39\n",
      "[36]\tvalid_0's l2: 538.33\tvalid_1's l2: 1527.22\n",
      "[37]\tvalid_0's l2: 514.22\tvalid_1's l2: 1502.98\n",
      "[38]\tvalid_0's l2: 492.604\tvalid_1's l2: 1484.27\n",
      "[39]\tvalid_0's l2: 473.962\tvalid_1's l2: 1464.36\n",
      "[40]\tvalid_0's l2: 455.725\tvalid_1's l2: 1448.35\n",
      "[41]\tvalid_0's l2: 442.622\tvalid_1's l2: 1441.46\n",
      "[42]\tvalid_0's l2: 427.062\tvalid_1's l2: 1426.21\n",
      "[43]\tvalid_0's l2: 412.105\tvalid_1's l2: 1416.81\n",
      "[44]\tvalid_0's l2: 397.274\tvalid_1's l2: 1401.87\n",
      "[45]\tvalid_0's l2: 384.873\tvalid_1's l2: 1394.23\n",
      "[46]\tvalid_0's l2: 372.88\tvalid_1's l2: 1384.02\n",
      "[47]\tvalid_0's l2: 362.209\tvalid_1's l2: 1377.64\n",
      "[48]\tvalid_0's l2: 349.157\tvalid_1's l2: 1357.75\n",
      "[49]\tvalid_0's l2: 337.391\tvalid_1's l2: 1352.55\n",
      "[50]\tvalid_0's l2: 328.927\tvalid_1's l2: 1352.61\n",
      "[51]\tvalid_0's l2: 320.193\tvalid_1's l2: 1345.1\n",
      "[52]\tvalid_0's l2: 310.583\tvalid_1's l2: 1341.53\n",
      "[53]\tvalid_0's l2: 301.91\tvalid_1's l2: 1338.72\n",
      "[54]\tvalid_0's l2: 293.738\tvalid_1's l2: 1328.39\n",
      "[55]\tvalid_0's l2: 284.758\tvalid_1's l2: 1305.64\n",
      "[56]\tvalid_0's l2: 277.589\tvalid_1's l2: 1303.88\n",
      "[57]\tvalid_0's l2: 270.681\tvalid_1's l2: 1295.04\n",
      "[58]\tvalid_0's l2: 262.803\tvalid_1's l2: 1281.87\n",
      "[59]\tvalid_0's l2: 256.921\tvalid_1's l2: 1281.09\n",
      "[60]\tvalid_0's l2: 250.683\tvalid_1's l2: 1266.67\n",
      "[61]\tvalid_0's l2: 245.408\tvalid_1's l2: 1266.89\n",
      "[62]\tvalid_0's l2: 240.941\tvalid_1's l2: 1257.63\n",
      "[63]\tvalid_0's l2: 234.885\tvalid_1's l2: 1241.95\n",
      "[64]\tvalid_0's l2: 229.887\tvalid_1's l2: 1239.31\n",
      "[65]\tvalid_0's l2: 226.516\tvalid_1's l2: 1233.05\n",
      "[66]\tvalid_0's l2: 222.3\tvalid_1's l2: 1232.84\n",
      "[67]\tvalid_0's l2: 216.941\tvalid_1's l2: 1223.07\n",
      "[68]\tvalid_0's l2: 212.816\tvalid_1's l2: 1220\n",
      "[69]\tvalid_0's l2: 208.104\tvalid_1's l2: 1211.19\n",
      "[70]\tvalid_0's l2: 204.438\tvalid_1's l2: 1209.18\n",
      "[71]\tvalid_0's l2: 201.139\tvalid_1's l2: 1205.48\n",
      "[72]\tvalid_0's l2: 196.353\tvalid_1's l2: 1194.09\n",
      "[73]\tvalid_0's l2: 192.395\tvalid_1's l2: 1182.44\n",
      "[74]\tvalid_0's l2: 189.076\tvalid_1's l2: 1181.44\n",
      "[75]\tvalid_0's l2: 184.154\tvalid_1's l2: 1169.28\n",
      "[76]\tvalid_0's l2: 180.55\tvalid_1's l2: 1160.83\n",
      "[77]\tvalid_0's l2: 176.197\tvalid_1's l2: 1148.17\n",
      "[78]\tvalid_0's l2: 173.225\tvalid_1's l2: 1139.36\n",
      "[79]\tvalid_0's l2: 170.016\tvalid_1's l2: 1133.18\n",
      "[80]\tvalid_0's l2: 166.678\tvalid_1's l2: 1133.95\n",
      "[81]\tvalid_0's l2: 162.966\tvalid_1's l2: 1124.04\n",
      "[82]\tvalid_0's l2: 159.614\tvalid_1's l2: 1115.16\n",
      "[83]\tvalid_0's l2: 156.695\tvalid_1's l2: 1116.09\n",
      "[84]\tvalid_0's l2: 153.402\tvalid_1's l2: 1105.83\n",
      "[85]\tvalid_0's l2: 151.078\tvalid_1's l2: 1098.33\n",
      "[86]\tvalid_0's l2: 148.742\tvalid_1's l2: 1098.25\n",
      "[87]\tvalid_0's l2: 146.612\tvalid_1's l2: 1096.15\n",
      "[88]\tvalid_0's l2: 143.914\tvalid_1's l2: 1088.08\n",
      "[89]\tvalid_0's l2: 141.89\tvalid_1's l2: 1088.14\n",
      "[90]\tvalid_0's l2: 139.695\tvalid_1's l2: 1084.5\n",
      "[91]\tvalid_0's l2: 137.799\tvalid_1's l2: 1082.58\n",
      "[92]\tvalid_0's l2: 135.424\tvalid_1's l2: 1073.86\n",
      "[93]\tvalid_0's l2: 133.593\tvalid_1's l2: 1074.22\n",
      "[94]\tvalid_0's l2: 131.478\tvalid_1's l2: 1070.13\n",
      "[95]\tvalid_0's l2: 129.332\tvalid_1's l2: 1067.08\n",
      "[96]\tvalid_0's l2: 126.867\tvalid_1's l2: 1063.99\n",
      "[97]\tvalid_0's l2: 124.986\tvalid_1's l2: 1060.24\n",
      "[98]\tvalid_0's l2: 123.291\tvalid_1's l2: 1060.54\n",
      "[99]\tvalid_0's l2: 121.756\tvalid_1's l2: 1061.61\n",
      "[100]\tvalid_0's l2: 120.227\tvalid_1's l2: 1056.78\n"
     ]
    }
   ],
   "source": [
    "base_model()"
   ]
  },
  {
   "cell_type": "markdown",
   "metadata": {},
   "source": [
    "## Hyperopt 调参"
   ]
  },
  {
   "cell_type": "code",
   "execution_count": 232,
   "metadata": {},
   "outputs": [],
   "source": [
    "def params_search(params):\n",
    "    params = {\n",
    "        'num_leaves': int(params['num_leaves']),\n",
    "        'n_estimators' : int(params['n_estimators'])\n",
    "    }\n",
    "    \n",
    "    clf = lgb.LGBMRegressor(\n",
    "        learning_rate=0.05,\n",
    "        n_jobs=-1,\n",
    "        **params\n",
    "    )\n",
    "    \n",
    "    score = -cross_val_score(clf, train_data.iloc[:, :-1], train_data['label'], scoring='r2', cv=5).mean()\n",
    "    print(\"-R2 {:.3f} params {}\".format(score, params))\n",
    "    return score"
   ]
  },
  {
   "cell_type": "code",
   "execution_count": 233,
   "metadata": {},
   "outputs": [],
   "source": [
    "space = {\n",
    "    'num_leaves': hp.quniform('num_leaves', 31, 128, 1),\n",
    "    'n_estimators': hp.quniform('n_estimators', 25, 500, 25)\n",
    "}"
   ]
  },
  {
   "cell_type": "code",
   "execution_count": 234,
   "metadata": {
    "scrolled": true
   },
   "outputs": [
    {
     "name": "stdout",
     "output_type": "stream",
     "text": [
      "-R2 0.404 params {'num_leaves': 45, 'n_estimators': 475}\n",
      "-R2 0.573 params {'num_leaves': 80, 'n_estimators': 50}\n",
      "-R2 0.402 params {'num_leaves': 77, 'n_estimators': 425}\n",
      "-R2 0.390 params {'num_leaves': 83, 'n_estimators': 225}\n",
      "-R2 0.573 params {'num_leaves': 39, 'n_estimators': 50}\n",
      "-R2 0.387 params {'num_leaves': 117, 'n_estimators': 250}\n",
      "-R2 0.404 params {'num_leaves': 101, 'n_estimators': 500}\n",
      "-R2 0.409 params {'num_leaves': 45, 'n_estimators': 125}\n",
      "-R2 0.390 params {'num_leaves': 62, 'n_estimators': 300}\n",
      "-R2 0.389 params {'num_leaves': 65, 'n_estimators': 200}\n",
      "-R2 0.704 params {'num_leaves': 73, 'n_estimators': 25}\n",
      "-R2 0.390 params {'num_leaves': 61, 'n_estimators': 225}\n",
      "-R2 0.399 params {'num_leaves': 88, 'n_estimators': 375}\n",
      "-R2 0.397 params {'num_leaves': 77, 'n_estimators': 350}\n",
      "-R2 0.389 params {'num_leaves': 72, 'n_estimators': 275}\n",
      "-R2 0.389 params {'num_leaves': 121, 'n_estimators': 275}\n",
      "-R2 0.389 params {'num_leaves': 96, 'n_estimators': 200}\n",
      "-R2 0.386 params {'num_leaves': 115, 'n_estimators': 175}\n",
      "-R2 0.396 params {'num_leaves': 85, 'n_estimators': 150}\n",
      "-R2 0.394 params {'num_leaves': 64, 'n_estimators': 325}\n",
      "-R2 0.409 params {'num_leaves': 127, 'n_estimators': 125}\n",
      "-R2 0.396 params {'num_leaves': 113, 'n_estimators': 150}\n",
      "-R2 0.433 params {'num_leaves': 111, 'n_estimators': 100}\n",
      "-R2 0.401 params {'num_leaves': 126, 'n_estimators': 400}\n",
      "-R2 0.390 params {'num_leaves': 108, 'n_estimators': 225}\n",
      "-R2 0.386 params {'num_leaves': 118, 'n_estimators': 175}\n",
      "-R2 0.386 params {'num_leaves': 97, 'n_estimators': 175}\n",
      "-R2 0.477 params {'num_leaves': 95, 'n_estimators': 75}\n",
      "-R2 0.433 params {'num_leaves': 122, 'n_estimators': 100}\n",
      "-R2 0.386 params {'num_leaves': 105, 'n_estimators': 175}\n",
      "-R2 0.704 params {'num_leaves': 104, 'n_estimators': 25}\n",
      "-R2 0.404 params {'num_leaves': 92, 'n_estimators': 450}\n",
      "-R2 0.390 params {'num_leaves': 106, 'n_estimators': 300}\n",
      "-R2 0.477 params {'num_leaves': 99, 'n_estimators': 75}\n",
      "-R2 0.387 params {'num_leaves': 113, 'n_estimators': 250}\n",
      "-R2 0.386 params {'num_leaves': 90, 'n_estimators': 175}\n",
      "-R2 0.573 params {'num_leaves': 52, 'n_estimators': 50}\n",
      "-R2 0.409 params {'num_leaves': 33, 'n_estimators': 125}\n",
      "-R2 0.389 params {'num_leaves': 88, 'n_estimators': 200}\n",
      "-R2 0.387 params {'num_leaves': 91, 'n_estimators': 250}\n",
      "-R2 0.396 params {'num_leaves': 82, 'n_estimators': 150}\n",
      "-R2 0.394 params {'num_leaves': 101, 'n_estimators': 325}\n",
      "-R2 0.390 params {'num_leaves': 119, 'n_estimators': 225}\n",
      "-R2 0.433 params {'num_leaves': 116, 'n_estimators': 100}\n",
      "-R2 0.477 params {'num_leaves': 71, 'n_estimators': 75}\n",
      "-R2 0.389 params {'num_leaves': 54, 'n_estimators': 200}\n",
      "-R2 0.389 params {'num_leaves': 78, 'n_estimators': 275}\n",
      "-R2 0.390 params {'num_leaves': 124, 'n_estimators': 300}\n",
      "-R2 0.399 params {'num_leaves': 97, 'n_estimators': 375}\n",
      "-R2 0.387 params {'num_leaves': 108, 'n_estimators': 250}\n",
      "-R2 0.573 params {'num_leaves': 117, 'n_estimators': 50}\n",
      "-R2 0.396 params {'num_leaves': 68, 'n_estimators': 150}\n",
      "-R2 0.394 params {'num_leaves': 103, 'n_estimators': 325}\n",
      "-R2 0.386 params {'num_leaves': 94, 'n_estimators': 175}\n",
      "-R2 0.389 params {'num_leaves': 75, 'n_estimators': 200}\n",
      "-R2 0.409 params {'num_leaves': 59, 'n_estimators': 125}\n",
      "-R2 0.390 params {'num_leaves': 86, 'n_estimators': 225}\n",
      "-R2 0.404 params {'num_leaves': 44, 'n_estimators': 475}\n",
      "-R2 0.397 params {'num_leaves': 83, 'n_estimators': 350}\n",
      "-R2 0.409 params {'num_leaves': 79, 'n_estimators': 125}\n",
      "-R2 0.704 params {'num_leaves': 110, 'n_estimators': 25}\n",
      "-R2 0.389 params {'num_leaves': 120, 'n_estimators': 275}\n",
      "-R2 0.390 params {'num_leaves': 90, 'n_estimators': 300}\n",
      "-R2 0.573 params {'num_leaves': 99, 'n_estimators': 50}\n",
      "-R2 0.402 params {'num_leaves': 128, 'n_estimators': 425}\n",
      "-R2 0.386 params {'num_leaves': 103, 'n_estimators': 175}\n",
      "-R2 0.386 params {'num_leaves': 106, 'n_estimators': 175}\n",
      "-R2 0.396 params {'num_leaves': 112, 'n_estimators': 150}\n",
      "-R2 0.433 params {'num_leaves': 102, 'n_estimators': 100}\n",
      "-R2 0.386 params {'num_leaves': 107, 'n_estimators': 175}\n",
      "-R2 0.389 params {'num_leaves': 124, 'n_estimators': 200}\n",
      "-R2 0.390 params {'num_leaves': 115, 'n_estimators': 225}\n",
      "-R2 0.477 params {'num_leaves': 94, 'n_estimators': 75}\n",
      "-R2 0.396 params {'num_leaves': 106, 'n_estimators': 150}\n",
      "-R2 0.409 params {'num_leaves': 98, 'n_estimators': 125}\n",
      "-R2 0.387 params {'num_leaves': 110, 'n_estimators': 250}\n",
      "-R2 0.433 params {'num_leaves': 69, 'n_estimators': 100}\n",
      "-R2 0.389 params {'num_leaves': 124, 'n_estimators': 200}\n",
      "-R2 0.390 params {'num_leaves': 118, 'n_estimators': 225}\n",
      "-R2 0.389 params {'num_leaves': 86, 'n_estimators': 275}\n",
      "-R2 0.386 params {'num_leaves': 108, 'n_estimators': 175}\n",
      "-R2 0.477 params {'num_leaves': 122, 'n_estimators': 75}\n",
      "-R2 0.409 params {'num_leaves': 94, 'n_estimators': 125}\n",
      "-R2 0.396 params {'num_leaves': 81, 'n_estimators': 150}\n",
      "-R2 0.397 params {'num_leaves': 76, 'n_estimators': 350}\n",
      "-R2 0.433 params {'num_leaves': 114, 'n_estimators': 100}\n",
      "-R2 0.389 params {'num_leaves': 127, 'n_estimators': 200}\n",
      "-R2 0.573 params {'num_leaves': 101, 'n_estimators': 50}\n",
      "-R2 0.387 params {'num_leaves': 88, 'n_estimators': 250}\n",
      "-R2 0.386 params {'num_leaves': 95, 'n_estimators': 175}\n",
      "-R2 0.390 params {'num_leaves': 93, 'n_estimators': 225}\n",
      "-R2 0.394 params {'num_leaves': 121, 'n_estimators': 325}\n",
      "-R2 0.390 params {'num_leaves': 106, 'n_estimators': 300}\n",
      "-R2 0.389 params {'num_leaves': 84, 'n_estimators': 275}\n",
      "-R2 0.396 params {'num_leaves': 103, 'n_estimators': 150}\n",
      "-R2 0.387 params {'num_leaves': 74, 'n_estimators': 250}\n",
      "-R2 0.704 params {'num_leaves': 100, 'n_estimators': 25}\n",
      "-R2 0.386 params {'num_leaves': 111, 'n_estimators': 175}\n",
      "-R2 0.409 params {'num_leaves': 32, 'n_estimators': 125}\n",
      "-R2 0.477 params {'num_leaves': 97, 'n_estimators': 75}\n"
     ]
    }
   ],
   "source": [
    "best = fmin(fn=params_search,\n",
    "            space=space,\n",
    "            algo=tpe.suggest,\n",
    "            max_evals=100)"
   ]
  },
  {
   "cell_type": "code",
   "execution_count": 235,
   "metadata": {},
   "outputs": [
    {
     "name": "stdout",
     "output_type": "stream",
     "text": [
      "Hyperopt estimated optimum {'n_estimators': 175.0, 'num_leaves': 115.0}\n"
     ]
    }
   ],
   "source": [
    "print(\"Hyperopt estimated optimum {}\".format(best))"
   ]
  },
  {
   "cell_type": "code",
   "execution_count": 237,
   "metadata": {},
   "outputs": [
    {
     "name": "stdout",
     "output_type": "stream",
     "text": [
      "-R2 0.386 params {'num_leaves': 115, 'n_estimators': 175}\n",
      "0.3856380483282835\n"
     ]
    }
   ],
   "source": [
    "print(params_search(best))"
   ]
  },
  {
   "cell_type": "code",
   "execution_count": null,
   "metadata": {},
   "outputs": [],
   "source": []
  }
 ],
 "metadata": {
  "kernelspec": {
   "display_name": "Python 3",
   "language": "python",
   "name": "python3"
  },
  "language_info": {
   "codemirror_mode": {
    "name": "ipython",
    "version": 3
   },
   "file_extension": ".py",
   "mimetype": "text/x-python",
   "name": "python",
   "nbconvert_exporter": "python",
   "pygments_lexer": "ipython3",
   "version": "3.6.4"
  }
 },
 "nbformat": 4,
 "nbformat_minor": 2
}
